{
 "cells": [
  {
   "cell_type": "code",
   "execution_count": 1,
   "metadata": {},
   "outputs": [],
   "source": [
    "# Load the previously written code, which will do much of the heavy lifting. \n",
    "load(\"nahm_data.py\")"
   ]
  },
  {
   "cell_type": "markdown",
   "metadata": {},
   "source": [
    "## Getting the $\\rho_i$"
   ]
  },
  {
   "cell_type": "code",
   "execution_count": 2,
   "metadata": {},
   "outputs": [],
   "source": [
    "# Define the number field to work over. \n",
    "K.<j> = NumberField(polygen(QQ)^2 + 1)\n",
    "j = (polygen(K)^2+1).roots(multiplicities=False)[0]\n",
    "_.<z,w> = K[]"
   ]
  },
  {
   "cell_type": "code",
   "execution_count": 3,
   "metadata": {},
   "outputs": [],
   "source": [
    "# Set the rho_i to be the matrices given in Example ... \n",
    "r1 = matrix([[0, 0, 0], [0, 0, -2], [0, 2, 0]])\n",
    "r2 = matrix([[0, 0, 2], [0, 0, 0], [-2, 0, 0]])\n",
    "r3 = matrix([[0, -2, 0], [2, 0, 0], [0, 0, 0]])\n",
    "Ms = [r1, r2, r3]"
   ]
  },
  {
   "cell_type": "markdown",
   "metadata": {},
   "source": [
    "# Naive approach"
   ]
  },
  {
   "cell_type": "markdown",
   "metadata": {},
   "source": [
    "## Getting the invariant vectors"
   ]
  },
  {
   "cell_type": "code",
   "execution_count": 4,
   "metadata": {},
   "outputs": [
    {
     "name": "stdout",
     "output_type": "stream",
     "text": [
      "Succeeded in making all matrices anti-Hermitian:\n",
      "True\n"
     ]
    },
    {
     "data": {
      "text/plain": [
       "[\n",
       "[ 0  0  0]  [ 0  0  2]  [ 0 -2  0]\n",
       "[ 0  0 -2]  [ 0  0  0]  [ 2  0  0]\n",
       "[ 0  2  0], [-2  0  0], [ 0  0  0]\n",
       "]"
      ]
     },
     "execution_count": 4,
     "metadata": {},
     "output_type": "execute_result"
    },
    {
     "data": {
      "text/plain": [
       "[(0,\n",
       "  [\n",
       "[  0   0   0]  [  0   0 -12]  [0 0 0]\n",
       "[  0   0 -12]  [  0   0   0]  [0 0 0]\n",
       "[  0  12   0], [ 12   0   0], [0 0 0]\n",
       "]),\n",
       " (1,\n",
       "  [\n",
       "[    0     0     0]  [    0     0 -12*j]  [   0 24*j    0]\n",
       "[    0     0 -12*j]  [    0     0     0]  [24*j    0    0]\n",
       "[    0 -12*j     0], [-12*j     0     0], [   0    0    0]\n",
       "]),\n",
       " (2,\n",
       "  [\n",
       "[ 0  0  0]  [ 0  0  2]  [ 0  4  0]\n",
       "[ 0  0 -2]  [ 0  0  0]  [-4  0  0]\n",
       "[ 0  2  0], [-2  0  0], [ 0  0  0]\n",
       "]),\n",
       " (3,\n",
       "  [\n",
       "[  0   0   0]  [   0    0 -6*j]  [0 0 0]\n",
       "[  0   0 6*j]  [   0    0    0]  [0 0 0]\n",
       "[  0 6*j   0], [-6*j    0    0], [0 0 0]\n",
       "]),\n",
       " (4,\n",
       "  [\n",
       "[   0    0    0]  [   0    0 10*j]  [   0 10*j    0]\n",
       "[   0    0 10*j]  [   0    0    0]  [10*j    0    0]\n",
       "[   0 10*j    0], [10*j    0    0], [   0    0    0]\n",
       "])]"
      ]
     },
     "execution_count": 4,
     "metadata": {},
     "output_type": "execute_result"
    }
   ],
   "source": [
    "# Initialise the Qs to be the desired V4 invariant polynomials\n",
    "Qs = [w^4 + z^4, w^2*z^2, w*z*(w^4 - z^4)]\n",
    "\n",
    "# compute the rho and S triple\n",
    "rs, Ss = find_invariant_vectors(Ms, Qs, sign=1)\n",
    "\n",
    "# Scale the vectors so the corresponding matrices are anti-Hermitian\n",
    "make_hermitian(Ss, K)\n",
    "\n",
    "# display the output\n",
    "displayhook(rs)\n",
    "displayhook(list(enumerate(Ss)))"
   ]
  },
  {
   "cell_type": "code",
   "execution_count": 5,
   "metadata": {},
   "outputs": [
    {
     "data": {
      "text/plain": [
       "[[\n",
       "[ 0  0  0]  [ 0  0 -1]  [0 0 0]\n",
       "[ 0  0 -1]  [ 0  0  0]  [0 0 0]\n",
       "[ 0  1  0], [ 1  0  0], [0 0 0]\n",
       "],\n",
       " [\n",
       "[ 0  0  0]  [ 0  0 -j]  [  0 2*j   0]\n",
       "[ 0  0 -j]  [ 0  0  0]  [2*j   0   0]\n",
       "[ 0 -j  0], [-j  0  0], [  0   0   0]\n",
       "],\n",
       " [\n",
       "[ 0  0  0]  [ 0  0  1]  [ 0  2  0]\n",
       "[ 0  0 -1]  [ 0  0  0]  [-2  0  0]\n",
       "[ 0  1  0], [-1  0  0], [ 0  0  0]\n",
       "],\n",
       " [\n",
       "[0 0 0]  [ 0  0 -j]  [0 0 0]\n",
       "[0 0 j]  [ 0  0  0]  [0 0 0]\n",
       "[0 j 0], [-j  0  0], [0 0 0]\n",
       "],\n",
       " [\n",
       "[0 0 0]  [0 0 j]  [0 j 0]\n",
       "[0 0 j]  [0 0 0]  [j 0 0]\n",
       "[0 j 0], [j 0 0], [0 0 0]\n",
       "]]"
      ]
     },
     "execution_count": 5,
     "metadata": {},
     "output_type": "execute_result"
    },
    {
     "data": {
      "text/plain": [
       "[]"
      ]
     },
     "execution_count": 5,
     "metadata": {},
     "output_type": "execute_result"
    }
   ],
   "source": [
    "# Scale them by real numbers to make the factors a little nicer\n",
    "S_scales = len(Ss)*[1]\n",
    "S_scales[0] /= 12\n",
    "S_scales[1] /= 12\n",
    "S_scales[2] /= 2\n",
    "S_scales[3] /= 6\n",
    "S_scales[4] /= 10\n",
    "Ss = [[scale_i*sij for sij in si] for scale_i, si in zip(S_scales, Ss)]\n",
    "\n",
    "# display the newly scaled matrices\n",
    "displayhook(Ss)\n",
    "\n",
    "# find the constraints, if any, imposed by the row reduction process\n",
    "_, constraints = solve_commutation_relations(rs, Ss)\n",
    "constraints"
   ]
  },
  {
   "cell_type": "markdown",
   "metadata": {},
   "source": [
    "## Investigate the constants and ODEs"
   ]
  },
  {
   "cell_type": "code",
   "execution_count": 6,
   "metadata": {},
   "outputs": [
    {
     "data": {
      "text/plain": [
       "[(8) * (x*y0 + 1/2*y0*y2 - 1/2*y1*y3 + 1/2*y3*y4),\n",
       " ((-8*j)) * (y0^2*y1 + y1^3 - 6*x*y1*y2 - 3*y1*y2^2 + 2*x*y0*y3 - 2*y0*y2*y3 - y1*y3^2 - 6*x^2*y4 + 1/2*y0^2*y4 - 3/2*y1^2*y4 + 3/2*y2^2*y4 - 1/2*y3^2*y4 + 1/2*y4^3),\n",
       " 1,\n",
       " (4) * (y0^2 - 3*y1^2 + 12*x*y2 - 3*y2^2 + y3^2 - 6*y1*y4),\n",
       " (8) * (x*y0 + 1/2*y0*y2 - 1/2*y1*y3 + 1/2*y3*y4),\n",
       " ((8*j)) * (y0^2*y1 + y1^3 - 6*x*y1*y2 - 3*y1*y2^2 + 2*x*y0*y3 - 2*y0*y2*y3 - y1*y3^2 - 6*x^2*y4 + 1/2*y0^2*y4 - 3/2*y1^2*y4 + 3/2*y2^2*y4 - 1/2*y3^2*y4 + 1/2*y4^3)]"
      ]
     },
     "execution_count": 6,
     "metadata": {},
     "output_type": "execute_result"
    },
    {
     "data": {
      "text/plain": [
       "[2*x^2 - 1/6*y0^2 + 1/2*y1^2 - 1/2*y2^2 + 1/6*y3^2 - 1/2*y4^2,\n",
       " -2*x*y0 + 2*y0*y2 + 2*y1*y3 + y3*y4,\n",
       " 2*x*y1 + 2*y1*y2 + 2/3*y0*y3 - y2*y4,\n",
       " 1/3*y0^2 + y1^2 - 2*x*y2 - y2^2 - 1/3*y3^2 - y1*y4,\n",
       " 2*y0*y1 + 2*x*y3 - 2*y2*y3 + y0*y4,\n",
       " -2*y1*y2 + 2/3*y0*y3 - 4*x*y4]"
      ]
     },
     "execution_count": 6,
     "metadata": {},
     "output_type": "execute_result"
    },
    {
     "name": "stdout",
     "output_type": "stream",
     "text": [
      "Coefficients are conserved in unconstrained ring:\n",
      "True\n"
     ]
    }
   ],
   "source": [
    "# Initialse the spectral curve coming from this set of Nahm triple\n",
    "f = spectral_curve(rs, Ss)\n",
    "\n",
    "# display the coefficients in terms of x and yi\n",
    "coeffs = f.coefficients()\n",
    "displayhook([co.factor() for co in coeffs])\n",
    "\n",
    "# print the ODEs associated to the variables\n",
    "ODEs = ode_system(rs, Ss); \n",
    "displayhook(ODEs)\n",
    "\n",
    "# verify that the spectral curve is invariant when the variables are\n",
    "# evolved according to the relevant ODEs.\n",
    "verify_isospectrality(rs, Ss)"
   ]
  },
  {
   "cell_type": "code",
   "execution_count": 7,
   "metadata": {
    "scrolled": true
   },
   "outputs": [
    {
     "data": {
      "text/html": [
       "<html>\\(\\displaystyle \\left(8 x y_{0} + 4 y_{0} y_{2} - 4 y_{1} y_{3} + 4 y_{3} y_{4}\\right) \\eta \\zeta^{4} + \\left(-8 j y_{0}^{2} y_{1} - 8 j y_{1}^{3} + 48 j x y_{1} y_{2} + 24 j y_{1} y_{2}^{2} - 16 j x y_{0} y_{3} + 16 j y_{0} y_{2} y_{3} + 8 j y_{1} y_{3}^{2} + 48 j x^{2} y_{4} - 4 j y_{0}^{2} y_{4} + 12 j y_{1}^{2} y_{4} - 12 j y_{2}^{2} y_{4} + 4 j y_{3}^{2} y_{4} - 4 j y_{4}^{3}\\right) \\zeta^{5} + \\eta^{3} + \\left(4 y_{0}^{2} - 12 y_{1}^{2} + 48 x y_{2} - 12 y_{2}^{2} + 4 y_{3}^{2} - 24 y_{1} y_{4}\\right) \\eta \\zeta^{2} + \\left(8 x y_{0} + 4 y_{0} y_{2} - 4 y_{1} y_{3} + 4 y_{3} y_{4}\\right) \\eta + \\left(8 j y_{0}^{2} y_{1} + 8 j y_{1}^{3} - 48 j x y_{1} y_{2} - 24 j y_{1} y_{2}^{2} + 16 j x y_{0} y_{3} - 16 j y_{0} y_{2} y_{3} - 8 j y_{1} y_{3}^{2} - 48 j x^{2} y_{4} + 4 j y_{0}^{2} y_{4} - 12 j y_{1}^{2} y_{4} + 12 j y_{2}^{2} y_{4} - 4 j y_{3}^{2} y_{4} + 4 j y_{4}^{3}\\right) \\zeta\\)</html>"
      ],
      "text/latex": [
       "$\\displaystyle \\left(8 x y_{0} + 4 y_{0} y_{2} - 4 y_{1} y_{3} + 4 y_{3} y_{4}\\right) \\eta \\zeta^{4} + \\left(-8 j y_{0}^{2} y_{1} - 8 j y_{1}^{3} + 48 j x y_{1} y_{2} + 24 j y_{1} y_{2}^{2} - 16 j x y_{0} y_{3} + 16 j y_{0} y_{2} y_{3} + 8 j y_{1} y_{3}^{2} + 48 j x^{2} y_{4} - 4 j y_{0}^{2} y_{4} + 12 j y_{1}^{2} y_{4} - 12 j y_{2}^{2} y_{4} + 4 j y_{3}^{2} y_{4} - 4 j y_{4}^{3}\\right) \\zeta^{5} + \\eta^{3} + \\left(4 y_{0}^{2} - 12 y_{1}^{2} + 48 x y_{2} - 12 y_{2}^{2} + 4 y_{3}^{2} - 24 y_{1} y_{4}\\right) \\eta \\zeta^{2} + \\left(8 x y_{0} + 4 y_{0} y_{2} - 4 y_{1} y_{3} + 4 y_{3} y_{4}\\right) \\eta + \\left(8 j y_{0}^{2} y_{1} + 8 j y_{1}^{3} - 48 j x y_{1} y_{2} - 24 j y_{1} y_{2}^{2} + 16 j x y_{0} y_{3} - 16 j y_{0} y_{2} y_{3} - 8 j y_{1} y_{3}^{2} - 48 j x^{2} y_{4} + 4 j y_{0}^{2} y_{4} - 12 j y_{1}^{2} y_{4} + 12 j y_{2}^{2} y_{4} - 4 j y_{3}^{2} y_{4} + 4 j y_{4}^{3}\\right) \\zeta$"
      ],
      "text/plain": [
       "(8*x*y0 + 4*y0*y2 - 4*y1*y3 + 4*y3*y4)*w*z^4 + ((-8*j)*y0^2*y1 + (-8*j)*y1^3 + (48*j)*x*y1*y2 + (24*j)*y1*y2^2 + (-16*j)*x*y0*y3 + (16*j)*y0*y2*y3 + (8*j)*y1*y3^2 + (48*j)*x^2*y4 + (-4*j)*y0^2*y4 + (12*j)*y1^2*y4 + (-12*j)*y2^2*y4 + (4*j)*y3^2*y4 + (-4*j)*y4^3)*z^5 + w^3 + (4*y0^2 - 12*y1^2 + 48*x*y2 - 12*y2^2 + 4*y3^2 - 24*y1*y4)*w*z^2 + (8*x*y0 + 4*y0*y2 - 4*y1*y3 + 4*y3*y4)*w + ((8*j)*y0^2*y1 + (8*j)*y1^3 + (-48*j)*x*y1*y2 + (-24*j)*y1*y2^2 + (16*j)*x*y0*y3 + (-16*j)*y0*y2*y3 + (-8*j)*y1*y3^2 + (-48*j)*x^2*y4 + (4*j)*y0^2*y4 + (-12*j)*y1^2*y4 + (12*j)*y2^2*y4 + (-4*j)*y3^2*y4 + (4*j)*y4^3)*z"
      ]
     },
     "metadata": {},
     "output_type": "display_data"
    }
   ],
   "source": [
    "# Print the spectral curve looking nice\n",
    "pretty_print(f)"
   ]
  },
  {
   "cell_type": "markdown",
   "metadata": {},
   "source": [
    "## Lax pair"
   ]
  },
  {
   "cell_type": "code",
   "execution_count": 8,
   "metadata": {},
   "outputs": [
    {
     "data": {
      "text/html": [
       "<html>\\(\\displaystyle \\left(\\begin{array}{rrr}\n",
       "0 & \\left(4 j x + 4 y_{1} - 4 j y_{2} + 2 y_{4}\\right) \\zeta & \\left(-2 j x + j y_{0} - y_{1} - j y_{2} - y_{3} + y_{4}\\right) \\zeta^{2} + 2 j x - j y_{0} + y_{1} + j y_{2} + y_{3} - y_{4} \\\\\n",
       "\\left(-4 j x + 4 y_{1} + 4 j y_{2} + 2 y_{4}\\right) \\zeta & 0 & \\left(-2 x - y_{0} - j y_{1} - y_{2} + j y_{3} + j y_{4}\\right) \\zeta^{2} - 2 x - y_{0} - j y_{1} - y_{2} + j y_{3} + j y_{4} \\\\\n",
       "\\left(2 j x - j y_{0} - y_{1} + j y_{2} - y_{3} + y_{4}\\right) \\zeta^{2} - 2 j x + j y_{0} + y_{1} - j y_{2} + y_{3} - y_{4} & \\left(2 x + y_{0} - j y_{1} + y_{2} + j y_{3} + j y_{4}\\right) \\zeta^{2} + 2 x + y_{0} - j y_{1} + y_{2} + j y_{3} + j y_{4} & 0\n",
       "\\end{array}\\right)\\)</html>"
      ],
      "text/latex": [
       "$\\displaystyle \\left(\\begin{array}{rrr}\n",
       "0 & \\left(4 j x + 4 y_{1} - 4 j y_{2} + 2 y_{4}\\right) \\zeta & \\left(-2 j x + j y_{0} - y_{1} - j y_{2} - y_{3} + y_{4}\\right) \\zeta^{2} + 2 j x - j y_{0} + y_{1} + j y_{2} + y_{3} - y_{4} \\\\\n",
       "\\left(-4 j x + 4 y_{1} + 4 j y_{2} + 2 y_{4}\\right) \\zeta & 0 & \\left(-2 x - y_{0} - j y_{1} - y_{2} + j y_{3} + j y_{4}\\right) \\zeta^{2} - 2 x - y_{0} - j y_{1} - y_{2} + j y_{3} + j y_{4} \\\\\n",
       "\\left(2 j x - j y_{0} - y_{1} + j y_{2} - y_{3} + y_{4}\\right) \\zeta^{2} - 2 j x + j y_{0} + y_{1} - j y_{2} + y_{3} - y_{4} & \\left(2 x + y_{0} - j y_{1} + y_{2} + j y_{3} + j y_{4}\\right) \\zeta^{2} + 2 x + y_{0} - j y_{1} + y_{2} + j y_{3} + j y_{4} & 0\n",
       "\\end{array}\\right)$"
      ],
      "text/plain": [
       "[                                                                                       0                                                    ((4*j)*x + 4*y1 + (-4*j)*y2 + 2*y4)*z ((-2*j)*x + j*y0 - y1 + (-j)*y2 - y3 + y4)*z^2 + (2*j)*x + (-j)*y0 + y1 + j*y2 + y3 - y4]\n",
       "[                                                   ((-4*j)*x + 4*y1 + (4*j)*y2 + 2*y4)*z                                                                                        0     (-2*x - y0 + (-j)*y1 - y2 + j*y3 + j*y4)*z^2 - 2*x - y0 + (-j)*y1 - y2 + j*y3 + j*y4]\n",
       "[((2*j)*x + (-j)*y0 - y1 + j*y2 - y3 + y4)*z^2 + (-2*j)*x + j*y0 + y1 + (-j)*y2 + y3 - y4      (2*x + y0 + (-j)*y1 + y2 + j*y3 + j*y4)*z^2 + 2*x + y0 + (-j)*y1 + y2 + j*y3 + j*y4                                                                                        0]"
      ]
     },
     "metadata": {},
     "output_type": "display_data"
    }
   ],
   "source": [
    "# Compute the Lax pair\n",
    "L, _ = lax_pair(rs, Ss)\n",
    "pretty_print(L)"
   ]
  },
  {
   "cell_type": "code",
   "execution_count": 9,
   "metadata": {},
   "outputs": [
    {
     "name": "stdout",
     "output_type": "stream",
     "text": [
      "Defining w, z\n"
     ]
    }
   ],
   "source": [
    "# Split the Lax matrix into its parts homogenous in zeta.\n",
    "LR = L.base_ring()\n",
    "LR.inject_variables(verbose=False)\n",
    "\n",
    "L0 = matrix(3, 3, [lij.coefficient({w:0, z:0}) for lij in L.list()])\n",
    "L1 = matrix(3, 3, [lij.coefficient({w:0, z:1}) for lij in L.list()])\n",
    "L2 = matrix(3, 3, [lij.coefficient({w:0, z:2}) for lij in L.list()])"
   ]
  },
  {
   "cell_type": "markdown",
   "metadata": {},
   "source": [
    "## Finding the $f_i$"
   ]
  },
  {
   "cell_type": "code",
   "execution_count": 146,
   "metadata": {},
   "outputs": [
    {
     "data": {
      "text/html": [
       "<html>\\[\\newcommand{\\Bold}[1]{\\mathbf{#1}}\\left(\\begin{array}{rrr}\n",
       "0 & 0 & 0 \\\\\n",
       "0 & 0 & -2 x - y_{0} - j y_{1} - y_{2} + j y_{3} + j y_{4} \\\\\n",
       "0 & 2 x + y_{0} - j y_{1} + y_{2} + j y_{3} + j y_{4} & 0\n",
       "\\end{array}\\right)\\]</html>"
      ],
      "text/latex": [
       "$$\\newcommand{\\Bold}[1]{\\mathbf{#1}}\\left(\\begin{array}{rrr}\n",
       "0 & 0 & 0 \\\\\n",
       "0 & 0 & -2 x - y_{0} - j y_{1} - y_{2} + j y_{3} + j y_{4} \\\\\n",
       "0 & 2 x + y_{0} - j y_{1} + y_{2} + j y_{3} + j y_{4} & 0\n",
       "\\end{array}\\right)$$"
      ],
      "text/plain": [
       "[                                         0                                          0                                          0]\n",
       "[                                         0                                          0 -2*x - y0 + (-j)*y1 - y2 + (j)*y3 + (j)*y4]\n",
       "[                                         0  2*x + y0 + (-j)*y1 + y2 + (j)*y3 + (j)*y4                                          0]"
      ]
     },
     "metadata": {},
     "output_type": "display_data"
    },
    {
     "data": {
      "text/html": [
       "<html>\\[\\newcommand{\\Bold}[1]{\\mathbf{#1}}\\left(\\begin{array}{rrr}\n",
       "0 & 0 & 2 x - y_{0} - j y_{1} + y_{2} - j y_{3} + j y_{4} \\\\\n",
       "0 & 0 & 0 \\\\\n",
       "-2 x + y_{0} - j y_{1} - y_{2} - j y_{3} + j y_{4} & 0 & 0\n",
       "\\end{array}\\right)\\]</html>"
      ],
      "text/latex": [
       "$$\\newcommand{\\Bold}[1]{\\mathbf{#1}}\\left(\\begin{array}{rrr}\n",
       "0 & 0 & 2 x - y_{0} - j y_{1} + y_{2} - j y_{3} + j y_{4} \\\\\n",
       "0 & 0 & 0 \\\\\n",
       "-2 x + y_{0} - j y_{1} - y_{2} - j y_{3} + j y_{4} & 0 & 0\n",
       "\\end{array}\\right)$$"
      ],
      "text/plain": [
       "[                                          0                                           0  2*x - y0 + (-j)*y1 + y2 + (-j)*y3 + (j)*y4]\n",
       "[                                          0                                           0                                           0]\n",
       "[-2*x + y0 + (-j)*y1 - y2 + (-j)*y3 + (j)*y4                                           0                                           0]"
      ]
     },
     "metadata": {},
     "output_type": "display_data"
    },
    {
     "data": {
      "text/html": [
       "<html>\\[\\newcommand{\\Bold}[1]{\\mathbf{#1}}\\left(\\begin{array}{rrr}\n",
       "0 & -2 x + 2 j y_{1} + 2 y_{2} + j y_{4} & 0 \\\\\n",
       "2 x + 2 j y_{1} - 2 y_{2} + j y_{4} & 0 & 0 \\\\\n",
       "0 & 0 & 0\n",
       "\\end{array}\\right)\\]</html>"
      ],
      "text/latex": [
       "$$\\newcommand{\\Bold}[1]{\\mathbf{#1}}\\left(\\begin{array}{rrr}\n",
       "0 & -2 x + 2 j y_{1} + 2 y_{2} + j y_{4} & 0 \\\\\n",
       "2 x + 2 j y_{1} - 2 y_{2} + j y_{4} & 0 & 0 \\\\\n",
       "0 & 0 & 0\n",
       "\\end{array}\\right)$$"
      ],
      "text/plain": [
       "[                              0 -2*x + (2*j)*y1 + 2*y2 + (j)*y4                               0]\n",
       "[ 2*x + (2*j)*y1 - 2*y2 + (j)*y4                               0                               0]\n",
       "[                              0                               0                               0]"
      ]
     },
     "metadata": {},
     "output_type": "display_data"
    }
   ],
   "source": [
    "# Cpmpute the Ti Nahm matrices and print\n",
    "T1 = (L0 + L2)/2\n",
    "T2 = (L0 - L2)/(2*j)\n",
    "T3 = L1/(-2*j)\n",
    "Ts = [T1, T2, T3]\n",
    "[pretty_print(Ti) for Ti in Ts];"
   ]
  },
  {
   "cell_type": "code",
   "execution_count": 10,
   "metadata": {},
   "outputs": [
    {
     "name": "stdout",
     "output_type": "stream",
     "text": [
      "Defining w, z\n",
      "Defining x, y0, y1, y2, y3, y4\n"
     ]
    },
    {
     "data": {
      "text/plain": [
       "(0, 0, 0)"
      ]
     },
     "execution_count": 10,
     "metadata": {},
     "output_type": "execute_result"
    }
   ],
   "source": [
    "# Confirm the rewriting given in the text\n",
    "LR = L.base_ring()\n",
    "LR.inject_variables(verbose=False)\n",
    "BR = LR.base_ring()\n",
    "BR.inject_variables()\n",
    "\n",
    "def full_derivative(val):\n",
    "    return sum(val.derivative(vi)*oi for vi, oi in zip(BR.gens(), ODEs))\n",
    "\n",
    "a = 2*x - y0 - j*y1 + y2 - j*y3 + j*y4\n",
    "b = 2*x + y0 - j*y1 + y2 + j*y3 + j*y4\n",
    "c = 2*x + 2*j*y1 - 2*y2 + j*y4\n",
    "\n",
    "ac = 2*x - y0 + j*y1 + y2 + j*y3 - j*y4\n",
    "bc = 2*x + y0 + j*y1 + y2 - j*y3 - j*y4\n",
    "cc = 2*x - 2*j*y1 - 2*y2 - j*y4\n",
    "\n",
    "full_derivative(ac) - b*c, full_derivative(bc) - a*c, full_derivative(cc) - a*b"
   ]
  }
 ],
 "metadata": {
  "kernelspec": {
   "display_name": "SageMath 9.7.rc0",
   "language": "sage",
   "name": "sagemath"
  },
  "language_info": {
   "codemirror_mode": {
    "name": "ipython",
    "version": 3
   },
   "file_extension": ".py",
   "mimetype": "text/x-python",
   "name": "python",
   "nbconvert_exporter": "python",
   "pygments_lexer": "ipython3",
   "version": "3.10.5"
  }
 },
 "nbformat": 4,
 "nbformat_minor": 4
}
