{
 "cells": [
  {
   "cell_type": "markdown",
   "metadata": {},
   "source": [
    "In this notebook we will generate the feature data used to train the classification algorithm"
   ]
  },
  {
   "cell_type": "code",
   "execution_count": 1,
   "metadata": {},
   "outputs": [
    {
     "name": "stdout",
     "output_type": "stream",
     "text": [
      "ver 2020.07.24\n"
     ]
    }
   ],
   "source": [
    "# Load the code from Rojas\n",
    "load(\"polyB.sage\")\n",
    "\n",
    "# Data from Rojas, Behn on group ID and signature pairs in the \n",
    "# from (g, ID, signature)\n",
    "load(\"grupos_que_actuan.sage\")"
   ]
  },
  {
   "cell_type": "code",
   "execution_count": 2,
   "metadata": {},
   "outputs": [],
   "source": [
    "# Initialise the field with two elements\n",
    "F2 = FiniteField(2)\n",
    "\n",
    "# define many simple functions that will correspond to the features we want to record. \n",
    "def quotient_genus(g, GO, c):\n",
    "    return (g-1)/GO - sum([1 - 1/ci for ci in c])/2 + 1\n",
    "\n",
    "def quotient_genus_zero(genus, group_order, signature):\n",
    "    return bool(quotient_genus(genus, group_order, signature) == 0)\n",
    "\n",
    "def number_involutions_upto_conjugacy(G):\n",
    "    return sum([gi.order() == 2 for gi in G.conjugacy_classes_representatives()])\n",
    "    \n",
    "def power_two_dividing(order):\n",
    "    p2 = -1\n",
    "    while order in ZZ:\n",
    "        order /= 2\n",
    "        p2 += 1\n",
    "    return p2\n",
    "\n",
    "def number_odds_in_sig(c):\n",
    "    return sum([ci % 2 for ci in c])\n",
    "\n",
    "def number_evens_in_sig(c):\n",
    "    return len(c) - number_odds_in_sig(c)\n",
    "\n",
    "def number_involutions(G):\n",
    "    return sum([cc.cardinality() for cc in G.conjugacy_classes() if cc[0].order() == 2])\n",
    "\n",
    "def group_action_is_large(g, GO):\n",
    "    return F2(GO > 4*(g-1))\n",
    "\n",
    "def dimension_of_family(g, GO, c):\n",
    "    return 3*(quotient_genus(g, GO, c) - 1) + len(c)\n",
    "\n",
    "def max_ramification_order(c):\n",
    "    return max(c)\n",
    "\n",
    "# load some functions\n",
    "from sage.geometry.hyperplane_arrangement.affine_subspace import AffineSubspace\n",
    "import csv"
   ]
  },
  {
   "cell_type": "code",
   "execution_count": null,
   "metadata": {},
   "outputs": [
    {
     "name": "stdout",
     "output_type": "stream",
     "text": [
      "Unexplained error with data (9, [32, 18], [2, 2, 2, 2, 2], 0)\n",
      "Unexplained error with data (10, [18, 1], [2, 2, 2, 2, 2, 2], 0)\n",
      "Unexplained error with data (10, [36, 4], [2, 2, 2, 2, 2], 0)\n"
     ]
    }
   ],
   "source": [
    "# Loop over the Rojas data\n",
    "for g in range(2, 21):\n",
    "    \n",
    "    ID_sig_list = grupos_que_actuan(g)\n",
    "    I2g = matrix.identity(2*g, F2)\n",
    "    \n",
    "    for ID, cs in ID_sig_list:\n",
    "    \n",
    "        GO = ID[0]\n",
    "        \n",
    "        # Turn the group ID into a sage permutation group\n",
    "        Im = gap.Image(gap.IsomorphismPermGroup(gap.SmallGroup(*ID)))\n",
    "        G = PermutationGroup(gap_group = Im)\n",
    "        \n",
    "        # at this stage record all the features that depend on the group only,\n",
    "        # not the signature\n",
    "        group_level_data = [GO, group_action_is_large(g, GO), power_two_dividing(GO), \n",
    "                            number_involutions(G), number_involutions_upto_conjugacy(G)]\n",
    "\n",
    "        for c in cs:\n",
    "            if not quotient_genus_zero(g, GO, c):\n",
    "                continue\n",
    "                \n",
    "            # at this stage record all the features that depend on the signature and group\n",
    "            signature_level_data = [number_odds_in_sig(c), number_evens_in_sig(c),\n",
    "                                   max_ramification_order(c), dimension_of_family(g, GO, c)]\n",
    "\n",
    "            generating_vectors = find_generator_representatives(G, c)\n",
    "            \n",
    "            data = []\n",
    "\n",
    "            # loop over the possible generating vectors for a given genus, group, and signauture. \n",
    "            for ngen in range(len(generating_vectors)):\n",
    "                V = generating_vectors[ngen]\n",
    "                # Try to get the polyon associated to the action. \n",
    "                # If there is an error, as sometimes happens with the code, just print the error and \n",
    "                # continue\n",
    "                try:\n",
    "                    P = Poly(G, V)\n",
    "                except ValueError:\n",
    "                    print(\"Unexplained error with data {}\".format((g, ID, c, ngen)))\n",
    "                    continue\n",
    "                \n",
    "                # now get the intersection matrix to transfer the group action to \n",
    "                # a symplectic one\n",
    "                _, PT = P.intersection_matrix().symplectic_form()\n",
    "                \n",
    "                if not PT.nrows()==2*g:\n",
    "                    print(\"Unexplained error with data {}\".format((g, ID, c, ngen)))\n",
    "                    continue\n",
    "                \n",
    "                Q = PT.transpose().inverse()\n",
    "                symplectic_group_generators = [Q*P._representation(g)*PT.transpose() for g in P.generators]\n",
    "                \n",
    "                # Compute the action of the generators\n",
    "                Mlist = [matrix(M).change_ring(F2) for M in symplectic_group_generators]\n",
    "\n",
    "                Vbars = [vector([sum([A[j,i]*A[j+g,i] for j in range(g)]) \n",
    "                     for i in range(2*g)], F2) for A in Mlist]\n",
    "                \n",
    "                MIs = [M-I2g for M in Mlist]\n",
    "                X0s = [MI.solve_left(-V) for MI, V in zip(MIs, Vbars)]\n",
    "                # Find the affine subspace of vectors invariant under the action of each gen\n",
    "                AS = [AffineSubspace(X0, MI.kernel()) for X0, MI in zip(X0s, MIs)]\n",
    "\n",
    "                # compute the intersections of these affine subspaces. \n",
    "                Sols = AS.pop()\n",
    "                while Sols and AS:\n",
    "                    AI = AS.pop()\n",
    "                    Sols = Sols.intersection(AI)\n",
    "                \n",
    "                # record the dimension of the space of invariants, taking -1 if there are \n",
    "                # no invariants. \n",
    "                if Sols:\n",
    "                    data.append([g] + group_level_data + signature_level_data + [Sols.dimension()])\n",
    "                else:\n",
    "                    data.append([g] + group_level_data + signature_level_data + [-1])\n",
    "\n",
    "            # write the data into the existing csv\n",
    "            with open(\"group_action_features_invariants_data.csv\", \"a\", newline=\"\") as f:\n",
    "                writer = csv.writer(f)\n",
    "                writer.writerows(data)"
   ]
  },
  {
   "cell_type": "markdown",
   "metadata": {},
   "source": [
    "Record the values with unexpected errors.\n",
    " - Unexplained error with data (9, [32, 18], [2, 2, 2, 2, 2], 0)\n",
    " - Unexplained error with data (10, [18, 1], [2, 2, 2, 2, 2, 2], 0)\n",
    " - Unexplained error with data (10, [36, 4], [2, 2, 2, 2, 2], 0)\n",
    " - Unexplained error with data (11, [20, 4], [2, 2, 2, 2, 2, 2], 0)\n",
    " - Unexplained error with data (11, [40, 6], [2, 2, 2, 2, 2], 0)\n",
    " - Unexplained error with data (12, [22, 1], [2, 2, 2, 2, 2, 2], 0)\n",
    " - Unexplained error with data (12, [44, 3], [2, 2, 2, 2, 2], 0)\n",
    " - Unexplained error with data (13, [2, 1], [2, 2, 2, 2, 2, 2, 2, 2, 2, 2, 2, 2, 2, 2, 2, 2, 2, 2, 2, 2, 2, 2, 2, 2, 2, 2, 2, 2], 0)"
   ]
  },
  {
   "cell_type": "markdown",
   "metadata": {},
   "source": [
    "For future investigations, one might look at the following links to get additional data\n",
    " - https://groups.google.com/g/lmfdb-support/c/aoipQ-qgQ6Q/m/HJkzEweWBAAJ\n",
    " - https://github.com/LMFDB/lmfdb-inventory/blob/master/db-curve_automorphisms.md\n",
    " - http://www.lmfdb.org/api/hgcwa_passports/"
   ]
  },
  {
   "cell_type": "code",
   "execution_count": null,
   "metadata": {},
   "outputs": [],
   "source": []
  }
 ],
 "metadata": {
  "kernelspec": {
   "display_name": "SageMath 9.7.rc0",
   "language": "sage",
   "name": "sagemath"
  },
  "language_info": {
   "codemirror_mode": {
    "name": "ipython",
    "version": 3
   },
   "file_extension": ".py",
   "mimetype": "text/x-python",
   "name": "python",
   "nbconvert_exporter": "python",
   "pygments_lexer": "ipython3",
   "version": "3.10.5"
  }
 },
 "nbformat": 4,
 "nbformat_minor": 4
}
