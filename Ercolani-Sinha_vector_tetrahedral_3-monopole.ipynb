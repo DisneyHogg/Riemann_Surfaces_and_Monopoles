{
 "cells": [
  {
   "cell_type": "code",
   "execution_count": 1,
   "metadata": {},
   "outputs": [
    {
     "data": {
      "text/plain": [
       "7.1625084514764982"
      ]
     },
     "execution_count": 1,
     "metadata": {},
     "output_type": "execute_result"
    }
   ],
   "source": [
    "# Set the real field to be used to approximate numbers\n",
    "prec = 60\n",
    "RR = RealField(prec)\n",
    "\n",
    "# Numerically get the parameter in the spectral curve not set by symmetry. \n",
    "# This is required to be accurate such that the ES constraints can be satisfied\n",
    "a_RR = RR(gamma(1/6)^3 * gamma(1/3)^3 / 48 / sqrt(3) / pi^(3/2))\n",
    "a_RR"
   ]
  },
  {
   "cell_type": "code",
   "execution_count": 2,
   "metadata": {},
   "outputs": [
    {
     "name": "stdout",
     "output_type": "stream",
     "text": [
      "248 277\n",
      "6.6972287860993934e-6\n"
     ]
    }
   ],
   "source": [
    "# Approximate now a_RR using rationals\n",
    "den = 8\n",
    "r = a_RR/den\n",
    "\n",
    "# Copied from https://www.johndcook.com/blog/2010/10/20/best-rational-approximation/\n",
    "def farey(x, N):\n",
    "    a, b = 0, 1\n",
    "    c, d = 1, 1\n",
    "    while (b <= N and d <= N):\n",
    "        mediant = float(a+c)/(b+d)\n",
    "        if x == mediant:\n",
    "            if b + d <= N:\n",
    "                return a+c, b+d\n",
    "            elif d > b:\n",
    "                return c, d\n",
    "            else:\n",
    "                return a, b\n",
    "        elif x > mediant:\n",
    "            a, b = a+c, b+d\n",
    "        else:\n",
    "            c, d = a+c, b+d\n",
    "\n",
    "    if (b > N):\n",
    "        return c, d\n",
    "    else:\n",
    "        return a, b\n",
    "\n",
    "# Set a maximum numerator / denominator size\n",
    "N = 300  \n",
    "# c/d then approximates r\n",
    "c, d = farey(r, N)\n",
    "print(c, d)\n",
    "print((RR(c/d) - r).abs())"
   ]
  },
  {
   "cell_type": "code",
   "execution_count": 3,
   "metadata": {},
   "outputs": [
    {
     "data": {
      "text/plain": [
       "Riemann surface defined by polynomial f = (1984/277*j)*x^5 + y^3 + (-1984/277*j)*x = 0, with 53 bits of precision"
      ]
     },
     "execution_count": 3,
     "metadata": {},
     "output_type": "execute_result"
    }
   ],
   "source": [
    "# Initialise the spectral curve\n",
    "K.<j> = QQ.extension(polygen(QQ)^2 + 1, embedding=I)\n",
    "R.<x,y> = K[]\n",
    "\n",
    "# Use this form of the curve as then the symmetry is built in without having to approximate the 5*sqrt(2)\n",
    "k = 3\n",
    "a_QQ = den*c/d\n",
    "f = y^3 + j * (a_QQ) * x*(x^4 - 1)\n",
    "\n",
    "from sage.schemes.riemann_surfaces.riemann_surface import RiemannSurface\n",
    "\n",
    "# The differentials are chosen here like Klein and Kalla so omega^tau = omega\n",
    "S = RiemannSurface(f, differentials=[j*x, j*y, 1+x^2, j*(1-x^2)])\n",
    "S"
   ]
  },
  {
   "cell_type": "code",
   "execution_count": 4,
   "metadata": {},
   "outputs": [
    {
     "data": {
      "text/plain": [
       "[    0.999997506554944 - 5.55111512312578e-17*I]\n",
       "[     1.99999501310988 - 1.11022302462516e-16*I]\n",
       "[-1.11022302462516e-16 - 3.33066907387547e-16*I]\n",
       "[ 3.12095295472512e-16 + 5.55111512312578e-16*I]\n",
       "[    0.999997506554942 - 3.33066907387547e-16*I]\n",
       "[ 6.66133814775094e-16 + 3.94159676855016e-16*I]\n",
       "[   -0.999997506554942 + 1.66533453693773e-16*I]\n",
       "[    0.999997506554943 + 2.22044604925031e-16*I]"
      ]
     },
     "execution_count": 4,
     "metadata": {},
     "output_type": "execute_result"
    }
   ],
   "source": [
    "# Construct the ES vector using matrix inversion.\n",
    "\n",
    "# Make the vector v such that Omega*ES = v, where Omega is the period matrix. \n",
    "CB = S.cohomology_basis()\n",
    "beta0s = [di.coefficient({x:0, y:k-2}) for di in CB]\n",
    "g = S.genus\n",
    "v = matrix(g, 1, [-2*CC(beta0) for beta0 in beta0s])\n",
    "v_conjugate = matrix(g, 1, [z.conjugate() for z in v])\n",
    "\n",
    "# Get the period matrix\n",
    "PM = S.period_matrix()\n",
    "PM_conjugate = matrix(g, 2*g, [z.conjugate() for z in PM.list()])\n",
    "\n",
    "M = block_matrix([[PM], [PM_conjugate]])\n",
    "V = block_matrix([[v], [v_conjugate]])\n",
    "\n",
    "# Get the ES using inversion\n",
    "from sage.schemes.riemann_surfaces.riemann_surface import numerical_inverse\n",
    "ES = numerical_inverse(M)*V\n",
    "ES"
   ]
  },
  {
   "cell_type": "code",
   "execution_count": 5,
   "metadata": {},
   "outputs": [
    {
     "name": "stdout",
     "output_type": "stream",
     "text": [
      "4.98689011507736e-6\n"
     ]
    },
    {
     "data": {
      "text/plain": [
       "(1, 2, 0, 0, 1, 0, -1, 1)"
      ]
     },
     "execution_count": 5,
     "metadata": {},
     "output_type": "execute_result"
    }
   ],
   "source": [
    "# Take the nearest integer vector to the numerical ES, and check the precision. \n",
    "def matrix_ZZ(M):\n",
    "    return matrix(M.nrows(), M.ncols(), map(lambda x: x.real().round(), M.list()))\n",
    "\n",
    "def absolute_rounding_error(M):\n",
    "    return max(ei.abs() for ei in (M-matrix_ZZ(M)).list())\n",
    "\n",
    "ES_ZZ = matrix_ZZ(ES)\n",
    "print(absolute_rounding_error(ES))\n",
    "\n",
    "ES_ZZ = vector(ES_ZZ)\n",
    "ES_ZZ"
   ]
  },
  {
   "cell_type": "code",
   "execution_count": 6,
   "metadata": {},
   "outputs": [
    {
     "name": "stdout",
     "output_type": "stream",
     "text": [
      "1.22124532708767e-15\n",
      "[-1  0  0  0  0 -1  0 -1]\n",
      "[ 1 -2 -1  1 -1  2  1  1]\n",
      "[ 0 -1  0  1  0  1  0  1]\n",
      "[ 1 -2  0  1 -1  1  1  0]\n",
      "[ 0  1  1 -1  1 -1  0 -1]\n",
      "[ 1  0 -1  0  0  2  1  2]\n",
      "[ 1 -1  0  1  0  1  0  0]\n",
      "[-1  0  1  0  0 -1 -1 -1]\n"
     ]
    }
   ],
   "source": [
    "# Construct now the action of tau on the homology basis using Kalla and Klein. \n",
    "PAbar, PBbar = PM[:, :g].transpose(), PM[:, g:].transpose()\n",
    "\n",
    "def matrix_imag(M):\n",
    "    return matrix(M.nrows(), M.ncols(), map(lambda x: x.imag(), M.list()))\n",
    "\n",
    "def matrix_real(M):\n",
    "    return matrix(M.nrows(), M.ncols(), map(lambda x: x.real(), M.list()))\n",
    "\n",
    "# Eqn 25\n",
    "Mt = matrix_imag(PBbar.transpose())*matrix_real(PAbar) - matrix_imag(PAbar.transpose())*matrix_real(PBbar)\n",
    "Mti = numerical_inverse(Mt)\n",
    "\n",
    "# Eqn 24\n",
    "KKR = block_matrix([[(2*matrix_real(PBbar)*Mti*matrix_imag(PAbar.transpose()) + matrix.identity(g)).transpose(),\n",
    "                    -2*matrix_real(PAbar)*Mti*matrix_imag(PAbar.transpose())],\n",
    "                   [2*matrix_real(PBbar)*Mti*matrix_imag(PBbar.transpose()),\n",
    "                   -(2*matrix_real(PBbar)*Mti*matrix_imag(PAbar.transpose()) + matrix.identity(g))]])\n",
    "\n",
    "KKR_ZZ = matrix_ZZ(KKR)\n",
    "print(absolute_rounding_error(KKR))\n",
    "print(KKR_ZZ)"
   ]
  },
  {
   "cell_type": "code",
   "execution_count": 7,
   "metadata": {},
   "outputs": [
    {
     "data": {
      "text/plain": [
       "True"
      ]
     },
     "execution_count": 7,
     "metadata": {},
     "output_type": "execute_result"
    }
   ],
   "source": [
    "# Check that ES is antiinvariant under tau\n",
    "not any(KKR_ZZ.transpose()*ES_ZZ + ES_ZZ)"
   ]
  },
  {
   "cell_type": "code",
   "execution_count": 9,
   "metadata": {},
   "outputs": [
    {
     "name": "stdout",
     "output_type": "stream",
     "text": [
      "Number of automorphisms of Jacobian: 144\n",
      "Size of subgroup fixing ES cycle: 24\n",
      "Size of subset negating ES cycle: 24\n"
     ]
    }
   ],
   "source": [
    "# Let's also check that the ES cycle is invariant under the S4 subgroup of automorphisms\n",
    "Rs = S.symplectic_isomorphisms()\n",
    "print(\"Number of automorphisms of Jacobian:\", len(Rs))\n",
    "print(\"Size of subgroup fixing ES cycle:\", sum([not any(Ri*ES_ZZ - ES_ZZ) for Ri in Rs]))\n",
    "print(\"Size of subset negating ES cycle:\", sum([not any(Ri*ES_ZZ + ES_ZZ) for Ri in Rs]))"
   ]
  },
  {
   "cell_type": "markdown",
   "metadata": {},
   "source": [
    "Check the monodromy around the equator with this orientation of curve"
   ]
  },
  {
   "cell_type": "code",
   "execution_count": 10,
   "metadata": {},
   "outputs": [
    {
     "name": "stdout",
     "output_type": "stream",
     "text": [
      "()\n"
     ]
    },
    {
     "data": {
      "image/png": "[encoded data removed]",
      "text/plain": [
       "Graphics object consisting of 6 graphics primitives"
      ]
     },
     "execution_count": 10,
     "metadata": {},
     "output_type": "execute_result"
    }
   ],
   "source": [
    "# Note we have to perturb the equator slightly to avoid the branch points with modulus 1. \n",
    "ng = 5\n",
    "vertices = [exp(2*k*S._CC(pi*sqrt(-1))/ng) - 0.3*(1+I) for k in range(ng)]\n",
    "downstairs_edges = [(i, i+1) for i in range(ng-1)] + [(0, ng-1)]\n",
    "\n",
    "wvalues = [S.w_values(zi) for zi in vertices]\n",
    "\n",
    "###\n",
    "# UPSTARIS_EDGES\n",
    "###\n",
    "L = {}\n",
    "edgeset = []\n",
    "n = len(S._wvalues[0])\n",
    "# Lifts each edge individually.\n",
    "for e in downstairs_edges:\n",
    "    i0, i1 = e\n",
    "    d_edge = (vertices[i0], vertices[i1])\n",
    "    # Epsilon for checking w-value later.\n",
    "    epsilon = min([abs(wvalues[i1][i] - wvalues[i1][n-j-1]) \n",
    "                   for i in range(n) for j in range(n-i-1)])/3\n",
    "    # Homotopy continuation along e.\n",
    "    L[e] = S.homotopy_continuation(d_edge)\n",
    "    homotopycont = L[e][-1][1]\n",
    "    for i in range(len(homotopycont)):\n",
    "        # Checks over the w-values of the next point to check which it is.\n",
    "        for j in range(len(wvalues[i1])):\n",
    "            if abs(homotopycont[i] - wvalues[i1][j]) < epsilon:\n",
    "                # Once it finds the appropriate w-value, adds the edge.\n",
    "                edgeset = edgeset + [[(i0, i), (i1, j)]]\n",
    "                continue\n",
    "upstairs_edges = edgeset\n",
    "\n",
    "###\n",
    "# EDGE_PERMUTATIONS\n",
    "###\n",
    "\n",
    "def edge_permutation(edge):\n",
    "    if edge in downstairs_edges:\n",
    "        # find all upstairs edges that are lifts of the given\n",
    "        # downstairs edge and store the corresponding indices at\n",
    "        # start and end that label the branches upstairs.\n",
    "        L = [(j0, j1) for ((i0, j0), (i1, j1)) in upstairs_edges\n",
    "             if edge == (i0, i1)]\n",
    "        # we should be finding exactly \"degree\" of these\n",
    "        assert len(L) == S.degree\n",
    "        # and as a corollary of how we construct them, the indices\n",
    "        # at the start should be in order\n",
    "        assert all(a == b[0] for a, b in enumerate(L))\n",
    "        return S._Sn([j1 for j0, j1 in L])\n",
    "    raise ValueError('edge not in polygon')\n",
    "    \n",
    "D = {e: edge_permutation(e) for e in downstairs_edges}\n",
    "for (a, b), p in list(D.items()):\n",
    "    D[(b, a)] = p**(-1)\n",
    "edge_permutations = D\n",
    "\n",
    "###\n",
    "# FINAL RESULT\n",
    "###\n",
    "\n",
    "equator_monodromy = prod(edge_permutations[(i, (i+1)%ng)] \n",
    "                         for i in range(ng))\n",
    "print(\"Monodromy around equator:\", equator_monodromy)\n",
    "\n",
    "point2d([bi for bi in S.branch_locus if bi.abs()<=1], \n",
    "        color='red', zorder=200) + sum([line((vertices[i0], vertices[i1])) \n",
    "                            for i0, i1 in downstairs_edges])"
   ]
  }
 ],
 "metadata": {
  "kernelspec": {
   "display_name": "SageMath 9.7.rc0",
   "language": "sage",
   "name": "sagemath"
  },
  "language_info": {
   "codemirror_mode": {
    "name": "ipython",
    "version": 3
   },
   "file_extension": ".py",
   "mimetype": "text/x-python",
   "name": "python",
   "nbconvert_exporter": "python",
   "pygments_lexer": "ipython3",
   "version": "3.10.5"
  }
 },
 "nbformat": 4,
 "nbformat_minor": 4
}
