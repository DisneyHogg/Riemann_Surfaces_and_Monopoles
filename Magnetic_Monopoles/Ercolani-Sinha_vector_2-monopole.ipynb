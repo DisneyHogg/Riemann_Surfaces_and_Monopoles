{
 "cells": [
  {
   "cell_type": "code",
   "execution_count": 2,
   "metadata": {},
   "outputs": [],
   "source": [
    "# Set the real field to be used to approximate numbers\n",
    "prec = 60\n",
    "RR = RealField(prec)"
   ]
  },
  {
   "cell_type": "code",
   "execution_count": 3,
   "metadata": {},
   "outputs": [
    {
     "name": "stdout",
     "output_type": "stream",
     "text": [
      "2.7444500270848508\n"
     ]
    }
   ],
   "source": [
    "# I will use the FHP form of the curve\n",
    "# Pick a value of beta\n",
    "beta = -1/2\n",
    "\n",
    "# Give the numerical value of the associated parameter B\n",
    "B_RR = RR(elliptic_kc(2*beta/(1+beta))^2/(1+beta))\n",
    "print(B_RR)"
   ]
  },
  {
   "cell_type": "code",
   "execution_count": 5,
   "metadata": {},
   "outputs": [],
   "source": [
    "# beta_tilde = sqrt(-beta^(-1) + sqrt(beta^(-2) - 1))\n",
    "# RR(beta_tilde)"
   ]
  },
  {
   "cell_type": "code",
   "execution_count": 6,
   "metadata": {},
   "outputs": [
    {
     "name": "stdout",
     "output_type": "stream",
     "text": [
      "247 270\n",
      "1.8608801354352486e-6\n"
     ]
    }
   ],
   "source": [
    "# We will want to approximate B with a rational to use Sage. \n",
    "den = 3\n",
    "r = B_RR/den\n",
    "\n",
    "# Copied from https://www.johndcook.com/blog/2010/10/20/best-rational-approximation/\n",
    "def farey(x, N):\n",
    "    a, b = 0, 1\n",
    "    c, d = 1, 1\n",
    "    while (b <= N and d <= N):\n",
    "        mediant = float(a+c)/(b+d)\n",
    "        if x == mediant:\n",
    "            if b + d <= N:\n",
    "                return a+c, b+d\n",
    "            elif d > b:\n",
    "                return c, d\n",
    "            else:\n",
    "                return a, b\n",
    "        elif x > mediant:\n",
    "            a, b = a+c, b+d\n",
    "        else:\n",
    "            c, d = a+c, b+d\n",
    "\n",
    "    if (b > N):\n",
    "        return c, d\n",
    "    else:\n",
    "        return a, b\n",
    "\n",
    "# Set a maximum numerator / denominator size\n",
    "N = 300  \n",
    "# c/d then approximates r\n",
    "c, d = farey(r, N)\n",
    "print(c, d)\n",
    "print((RR(c/d) - r).abs())"
   ]
  },
  {
   "cell_type": "code",
   "execution_count": 7,
   "metadata": {},
   "outputs": [
    {
     "data": {
      "text/plain": [
       "Riemann surface defined by polynomial f = -247/360*x^4 + 247/90*x^2 + y^2 - 247/360 = 0, with 53 bits of precision"
      ]
     },
     "execution_count": 7,
     "metadata": {},
     "output_type": "execute_result"
    }
   ],
   "source": [
    "# Create now the spectral curve\n",
    "K.<j> = QQ.extension(polygen(QQ)^2 + 1, embedding=I)\n",
    "R.<x,y> = K[]\n",
    "\n",
    "k = 2\n",
    "\n",
    "# For FHP curve\n",
    "B = den*c/d\n",
    "A = beta*B/2\n",
    "f = y^2 + A*(x^4 + 1) + B*x^2\n",
    "\n",
    "from sage.schemes.riemann_surfaces.riemann_surface import RiemannSurface\n",
    "\n",
    "# The differentials are chosen here like Klein and Kalla so omega^tau = omega\n",
    "S = RiemannSurface(f, differentials=[j])\n",
    "S"
   ]
  },
  {
   "cell_type": "code",
   "execution_count": 8,
   "metadata": {},
   "outputs": [
    {
     "data": {
      "text/plain": [
       "[   0.999998982921316]\n",
       "[2.02989881330222e-17]"
      ]
     },
     "execution_count": 8,
     "metadata": {},
     "output_type": "execute_result"
    }
   ],
   "source": [
    "# Construct the ES vector using matrix inversion. \n",
    "\n",
    "# Make the vector v such that Omega*ES = v, where Omega is the period matrix. \n",
    "CB = S.cohomology_basis()\n",
    "beta0s = [di.coefficient({x:0, y:k-2}) for di in CB]\n",
    "g = S.genus\n",
    "v = matrix(g, 1, [-2*CC(beta0) for beta0 in beta0s])\n",
    "v_conjugate = matrix(g, 1, [z.conjugate() for z in v])\n",
    "\n",
    "# Get the period matrix\n",
    "PM = S.period_matrix()\n",
    "PM_conjugate = matrix(g, 2*g, [z.conjugate() for z in PM.list()])\n",
    "\n",
    "M = block_matrix([[PM], [PM_conjugate]])\n",
    "V = block_matrix([[v], [v_conjugate]])\n",
    "\n",
    "# Get the ES using inversion\n",
    "from sage.schemes.riemann_surfaces.riemann_surface import numerical_inverse\n",
    "ES = numerical_inverse(M)*V\n",
    "ES"
   ]
  },
  {
   "cell_type": "code",
   "execution_count": 9,
   "metadata": {},
   "outputs": [
    {
     "name": "stdout",
     "output_type": "stream",
     "text": [
      "1.01707868427336e-6\n"
     ]
    }
   ],
   "source": [
    "# Take the nearest integer vector to the numerical ES, and check the precision. \n",
    "def matrix_ZZ(M):\n",
    "    return matrix(M.nrows(), M.ncols(), map(lambda x: x.real().round(), M.list()))\n",
    "\n",
    "def absolute_rounding_error(M):\n",
    "    return max(ei.abs() for ei in (M-matrix_ZZ(M)).list())\n",
    "\n",
    "ES_ZZ = matrix_ZZ(ES)\n",
    "print(absolute_rounding_error(ES))\n",
    "\n",
    "ES_ZZ = vector(ES_ZZ)\n",
    "ES_ZZ"
   ]
  },
  {
   "cell_type": "code",
   "execution_count": 11,
   "metadata": {},
   "outputs": [
    {
     "name": "stdout",
     "output_type": "stream",
     "text": [
      "4.05980175574227e-17\n",
      "[-1  0]\n",
      "[ 0  1]\n"
     ]
    }
   ],
   "source": [
    "# Construct now the action of tau on the homology basis using Kalla and Klein. \n",
    "PAbar, PBbar = PM[:, :g].transpose(), PM[:, g:].transpose()\n",
    "\n",
    "def matrix_imag(M):\n",
    "    return matrix(M.nrows(), M.ncols(), map(lambda x: x.imag(), M.list()))\n",
    "\n",
    "def matrix_real(M):\n",
    "    return matrix(M.nrows(), M.ncols(), map(lambda x: x.real(), M.list()))\n",
    "\n",
    "# Eqn 25\n",
    "Mt = matrix_imag(PBbar.transpose())*matrix_real(PAbar) - matrix_imag(PAbar.transpose())*matrix_real(PBbar)\n",
    "Mti = numerical_inverse(Mt)\n",
    "\n",
    "# Eqn 24\n",
    "KKR = block_matrix([[(2*matrix_real(PBbar)*Mti*matrix_imag(PAbar.transpose()) + matrix.identity(g)).transpose(),\n",
    "                    -2*matrix_real(PAbar)*Mti*matrix_imag(PAbar.transpose())],\n",
    "                   [2*matrix_real(PBbar)*Mti*matrix_imag(PBbar.transpose()),\n",
    "                   -(2*matrix_real(PBbar)*Mti*matrix_imag(PAbar.transpose()) + matrix.identity(g))]])\n",
    "\n",
    "# Convert to an integer matrix and check the precision\n",
    "KKR_ZZ = matrix_ZZ(KKR)\n",
    "print(absolute_rounding_error(KKR))\n",
    "print(KKR_ZZ)"
   ]
  },
  {
   "cell_type": "code",
   "execution_count": 12,
   "metadata": {},
   "outputs": [
    {
     "data": {
      "text/plain": [
       "True"
      ]
     },
     "execution_count": 12,
     "metadata": {},
     "output_type": "execute_result"
    }
   ],
   "source": [
    "# Check that ES is antiinvariant under tau\n",
    "not any(KKR_ZZ.transpose()*ES_ZZ + ES_ZZ)"
   ]
  },
  {
   "cell_type": "markdown",
   "metadata": {},
   "source": [
    "We now want to compare the found ES cycle to a lift of equators. "
   ]
  },
  {
   "cell_type": "code",
   "execution_count": 13,
   "metadata": {},
   "outputs": [
    {
     "name": "stdout",
     "output_type": "stream",
     "text": [
      "()\n"
     ]
    },
    {
     "data": {
      "image/png": "[encoded data removed]",
      "text/plain": [
       "Graphics object consisting of 7 graphics primitives"
      ]
     },
     "execution_count": 13,
     "metadata": {},
     "output_type": "execute_result"
    }
   ],
   "source": [
    "# First compute the monodromy of the equator and confirm it is trivial\n",
    "\n",
    "ng = 6\n",
    "vertices = [exp(2*k*S._CC(pi*sqrt(-1))/ng) for k in range(ng)]\n",
    "downstairs_edges = [(i, i+1) for i in range(ng-1)] + [(0, ng-1)]\n",
    "\n",
    "wvalues = [S.w_values(zi) for zi in vertices]\n",
    "\n",
    "###\n",
    "# UPSTARIS_EDGES\n",
    "###\n",
    "L = {}\n",
    "edgeset = []\n",
    "n = len(S._wvalues[0])\n",
    "# Lifts each edge individually.\n",
    "for e in downstairs_edges:\n",
    "    i0, i1 = e\n",
    "    d_edge = (vertices[i0], vertices[i1])\n",
    "    # Epsilon for checking w-value later.\n",
    "    epsilon = min([abs(wvalues[i1][i] - wvalues[i1][n-j-1]) \n",
    "                   for i in range(n) for j in range(n-i-1)])/3\n",
    "    # Homotopy continuation along e.\n",
    "    L[e] = S.homotopy_continuation(d_edge)\n",
    "    homotopycont = L[e][-1][1]\n",
    "    for i in range(len(homotopycont)):\n",
    "        # Checks over the w-values of the next point to check which it is.\n",
    "        for j in range(len(wvalues[i1])):\n",
    "            if abs(homotopycont[i] - wvalues[i1][j]) < epsilon:\n",
    "                # Once it finds the appropriate w-value, adds the edge.\n",
    "                edgeset = edgeset + [[(i0, i), (i1, j)]]\n",
    "                continue\n",
    "upstairs_edges = edgeset\n",
    "\n",
    "###\n",
    "# EDGE_PERMUTATIONS\n",
    "###\n",
    "\n",
    "def edge_permutation(edge):\n",
    "    if edge in downstairs_edges:\n",
    "        # find all upstairs edges that are lifts of the given\n",
    "        # downstairs edge and store the corresponding indices at\n",
    "        # start and end that label the branches upstairs.\n",
    "        L = [(j0, j1) for ((i0, j0), (i1, j1)) in upstairs_edges\n",
    "             if edge == (i0, i1)]\n",
    "        # we should be finding exactly \"degree\" of these\n",
    "        assert len(L) == S.degree\n",
    "        # and as a corollary of how we construct them, the indices\n",
    "        # at the start should be in order\n",
    "        assert all(a == b[0] for a, b in enumerate(L))\n",
    "        return S._Sn([j1 for j0, j1 in L])\n",
    "    raise ValueError('edge not in polygon')\n",
    "    \n",
    "D = {e: edge_permutation(e) for e in downstairs_edges}\n",
    "for (a, b), p in list(D.items()):\n",
    "    D[(b, a)] = p**(-1)\n",
    "edge_permutations = D\n",
    "\n",
    "###\n",
    "# FINAL RESULT\n",
    "###\n",
    "\n",
    "equator_monodromy = prod(edge_permutations[(i, (i+1)%ng)] \n",
    "                         for i in range(ng))\n",
    "print(\"Monodromy around equator:\", equator_monodromy)\n",
    "\n",
    "point2d([bi for bi in S.branch_locus if bi.abs()<=1], \n",
    "        color='red', zorder=200) + sum([line((vertices[i0], vertices[i1])) \n",
    "                            for i0, i1 in downstairs_edges])"
   ]
  },
  {
   "cell_type": "markdown",
   "metadata": {},
   "source": [
    "Finally I will check that the ES cycle is in the subspace of $H_1(\\mathcal{C}, \\mathbb{Q})$ generated by lifts of the equator"
   ]
  },
  {
   "cell_type": "code",
   "execution_count": 15,
   "metadata": {},
   "outputs": [
    {
     "data": {
      "image/png": "[encoded data removed]",
      "text/plain": [
       "Graphics object consisting of 12 graphics primitives"
      ]
     },
     "metadata": {},
     "output_type": "display_data"
    },
    {
     "data": {
      "text/plain": [
       "[[(0, 0), (1, 0)],\n",
       " [(0, 1), (1, 1)],\n",
       " [(0, 0), (3, 0)],\n",
       " [(0, 1), (3, 1)],\n",
       " [(0, 0), (7, 0)],\n",
       " [(0, 1), (7, 1)],\n",
       " [(1, 0), (5, 0)],\n",
       " [(1, 1), (5, 1)],\n",
       " [(1, 0), (9, 0)],\n",
       " [(1, 1), (9, 1)],\n",
       " [(2, 0), (3, 1)],\n",
       " [(2, 1), (3, 0)],\n",
       " [(2, 0), (4, 0)],\n",
       " [(2, 1), (4, 1)],\n",
       " [(3, 0), (5, 1)],\n",
       " [(3, 1), (5, 0)],\n",
       " [(4, 0), (5, 1)],\n",
       " [(4, 1), (5, 0)],\n",
       " [(6, 0), (7, 1)],\n",
       " [(6, 1), (7, 0)],\n",
       " [(6, 0), (8, 0)],\n",
       " [(6, 1), (8, 1)],\n",
       " [(7, 0), (9, 1)],\n",
       " [(7, 1), (9, 0)],\n",
       " [(8, 0), (9, 1)],\n",
       " [(8, 1), (9, 0)]]"
      ]
     },
     "execution_count": 15,
     "metadata": {},
     "output_type": "execute_result"
    }
   ],
   "source": [
    "# Now plot the paths Sage uses internally, labelling the vertices, and print the upstairs edges\n",
    "P = []\n",
    "for e in S._L.keys():\n",
    "    z0 = S._vertices[e[0]]\n",
    "    z1 = S._vertices[e[1]]\n",
    "\n",
    "    def path(t):\n",
    "        return (1 - t) * z0 + t * z1\n",
    "    T = S._L[e]\n",
    "    P += [path(t[0]) for t in T]\n",
    "    \n",
    "PT = point2d(P, size=1) + point2d(S.branch_locus, color=\"red\") + sum([text(\"{}\".format(i), 1.1*S._vertices[i]) \n",
    "                                                                    for i in range(len(S._vertices))])\n",
    "PT.show()\n",
    "\n",
    "S.upstairs_edges()"
   ]
  },
  {
   "cell_type": "code",
   "execution_count": 16,
   "metadata": {},
   "outputs": [
    {
     "name": "stdout",
     "output_type": "stream",
     "text": [
      "(0, -1, 0, 0, 1, 0, -1)\n",
      "(0, 1, 0, 0, -1, 0, 1)\n"
     ]
    }
   ],
   "source": [
    "# Write down the two lifts of the equator\n",
    "e0 = [(9, 0), (1, 0), (5, 0), (3, 1), (0, 1), (7, 1)]\n",
    "e1 = [(9, 1), (1, 1), (5, 1), (3, 0), (0, 0), (7, 0)]\n",
    "\n",
    "# Compute their intersections with the cycle basis computed by Sage\n",
    "def intersection_with_basis(cycle):\n",
    "    cycles = S.upstairs_graph().cycle_basis()\n",
    "    # Computing the Gram matrix.\n",
    "    cn = len(cycles)\n",
    "    \n",
    "    direction_cache = {}\n",
    "    def direction(center, neighbour):\n",
    "        k = (center, neighbour)\n",
    "        if k not in direction_cache:\n",
    "            theta = (S._vertices[neighbour] - S._vertices[center]).argument()\n",
    "            direction_cache[k] = theta\n",
    "            return theta\n",
    "        else:\n",
    "            return direction_cache[k]\n",
    "    \n",
    "    intersections = []\n",
    "    for j in range(len(cycles)):\n",
    "        # Initializing the intersection product value.\n",
    "        intsum = 0\n",
    "        # Intersection of the edges\n",
    "        intsec = set(cycle).intersection(set(cycles[j]))\n",
    "        for v in intsec:\n",
    "            # Get indices of the vertex in the cycles.\n",
    "            i0 = cycle.index(v)\n",
    "            i1 = cycles[j].index(v)\n",
    "            # Get the complex value of the vertex v.\n",
    "            center = cycle[i0][0]\n",
    "\n",
    "            # We are in the following situation:\n",
    "            # We have two paths a_in->v->a_out and\n",
    "            # b_in->v->b_out intersecting. We say they\n",
    "            # are \"positively oriented\" if the a-path\n",
    "            # and the b-path are oriented as the x and y axes, i.e.,\n",
    "            # if, when we walk around v in counter-clockwise direction,\n",
    "            # we encounter a_in,b_in,a_out,b_out.\n",
    "\n",
    "            # we can also have that b_in and/or b_out overlaps with\n",
    "            # a_in and/or a_out. If we just score the orientation of\n",
    "            # b_in and b_out individually, we can deal with this\n",
    "            # by just ignoring the overlapping vertex. The \"half\"\n",
    "            # score will be appropriately complemented at one of the\n",
    "            # next vertices.\n",
    "\n",
    "            a_in = cycle[i0-1][0]\n",
    "            a_out = cycle[(i0+1) % len(cycle)][0]\n",
    "            b_in = cycles[j][i1-1][0]\n",
    "            b_out = cycles[j][(i1+1) % len(cycles[j])][0]\n",
    "\n",
    "            # we can get the angles (and hence the rotation order)\n",
    "            # by taking the arguments of the differences.\n",
    "\n",
    "            a_in_arg = direction(center, a_in)\n",
    "            a_out_arg = direction(center, a_out)\n",
    "            b_in_arg = direction(center, b_in)\n",
    "            b_out_arg = direction(center, b_out)\n",
    "\n",
    "            # we make sure to test overlap on the indices, so no rounding\n",
    "            # problems occur with that.\n",
    "\n",
    "            if (b_in != a_in) and (b_in != a_out):\n",
    "                if ((a_in_arg < b_in_arg < a_out_arg)\n",
    "                    or (b_in_arg < a_out_arg < a_in_arg)\n",
    "                    or (a_out_arg < a_in_arg < b_in_arg)):\n",
    "                    intsum += 1\n",
    "                elif ((a_out_arg < b_in_arg < a_in_arg)\n",
    "                      or (b_in_arg < a_in_arg < a_out_arg)\n",
    "                      or (a_in_arg < a_out_arg < b_in_arg)):\n",
    "                    intsum -= 1\n",
    "                else:\n",
    "                    raise RuntimeError(\"impossible edge orientation\")\n",
    "            if (b_out != a_in) and (b_out != a_out):\n",
    "                if ((a_in_arg < b_out_arg < a_out_arg)\n",
    "                    or (b_out_arg < a_out_arg < a_in_arg)\n",
    "                    or (a_out_arg < a_in_arg < b_out_arg)):\n",
    "                    intsum -= 1\n",
    "                elif ((a_out_arg < b_out_arg < a_in_arg)\n",
    "                      or (b_out_arg < a_in_arg < a_out_arg)\n",
    "                      or (a_in_arg < a_out_arg < b_out_arg)):\n",
    "                    intsum += 1\n",
    "                else:\n",
    "                    raise RuntimeError(\"impossible edge orientation\")\n",
    "        assert (intsum % 2) == 0\n",
    "        intsum = intsum // 2\n",
    "        intersections.append(intsum)\n",
    "    return vector(intersections)\n",
    "\n",
    "I0, I1 = intersection_with_basis(e0), intersection_with_basis(e1)\n",
    "\n",
    "print(I0)\n",
    "print(I1)"
   ]
  },
  {
   "cell_type": "code",
   "execution_count": 17,
   "metadata": {},
   "outputs": [
    {
     "data": {
      "text/plain": [
       "(0, 1, 0, 0, -1, 0, 1)"
      ]
     },
     "execution_count": 17,
     "metadata": {},
     "output_type": "execute_result"
    }
   ],
   "source": [
    "# Compute the intersection of the ES cycle with the basis of Sage\n",
    "vs = []\n",
    "for ci in S.homology_basis():\n",
    "    v = 0*I0\n",
    "    for ni, loopi in ci:\n",
    "        v += ni*intersection_with_basis(loopi[:-1])\n",
    "    vs.append(v)\n",
    "\n",
    "es = sum(ni*vi for ni, vi in zip(ES_ZZ, vs))\n",
    "es"
   ]
  },
  {
   "cell_type": "code",
   "execution_count": 19,
   "metadata": {},
   "outputs": [
    {
     "data": {
      "text/plain": [
       "True"
      ]
     },
     "execution_count": 19,
     "metadata": {},
     "output_type": "execute_result"
    }
   ],
   "source": [
    "# Test if the ES cycle is in the subspace of H1(C, ZZ) generated by equators.  \n",
    "V = VectorSpace(QQ, len(vs[0]))\n",
    "W = V.subspace_with_basis(vs)\n",
    "E0, E1 = W.coordinates(I0), W.coordinates(I1)\n",
    "\n",
    "V = VectorSpace(QQ, 2*S.genus)\n",
    "W = V.subspace([vector(Ei) for Ei in [E0, E1]])\n",
    "\n",
    "vector(ES_ZZ) in W"
   ]
  }
 ],
 "metadata": {
  "kernelspec": {
   "display_name": "SageMath 9.7.rc0",
   "language": "sage",
   "name": "sagemath"
  },
  "language_info": {
   "codemirror_mode": {
    "name": "ipython",
    "version": 3
   },
   "file_extension": ".py",
   "mimetype": "text/x-python",
   "name": "python",
   "nbconvert_exporter": "python",
   "pygments_lexer": "ipython3",
   "version": "3.10.5"
  }
 },
 "nbformat": 4,
 "nbformat_minor": 4
}
