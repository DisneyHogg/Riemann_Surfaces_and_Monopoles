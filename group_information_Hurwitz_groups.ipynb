{
 "cells": [
  {
   "cell_type": "markdown",
   "id": "bf293692",
   "metadata": {},
   "source": [
    "We produce the feature information for the Hurwitz groups"
   ]
  },
  {
   "cell_type": "code",
   "execution_count": 17,
   "id": "a8ce1813",
   "metadata": {},
   "outputs": [],
   "source": [
    "# Hurwitz groups satisfy |G| = 84(g-1)\n",
    "# Hence know they are large, and hence the quotient genus is 0.\n",
    "# This let's us work out the genus they act on given their size. \n",
    "# We know also they act with signature (0; 2, 3, 7)\n",
    "# This let's us calculate all the information we need \n",
    "\n",
    "def starting_genus(GO, c):\n",
    "    return 1 + GO*(sum([1 - 1/ci for ci in c])/2 - 1)\n",
    "\n",
    "def number_involutions_upto_conjugacy(G):\n",
    "    return sum([gi.order() == 2 for gi in G.conjugacy_classes_representatives()])\n",
    "    \n",
    "def power_two_dividing(order):\n",
    "    p2 = -1\n",
    "    while order in ZZ:\n",
    "        order /= 2\n",
    "        p2 += 1\n",
    "    return p2\n",
    "\n",
    "def number_odds_in_sig(c):\n",
    "    return 2\n",
    "\n",
    "def number_evens_in_sig(c):\n",
    "    return 1\n",
    "\n",
    "def number_involutions(G):\n",
    "    return sum([cc.cardinality() for cc in G.conjugacy_classes() if cc[0].order() == 2])\n",
    "\n",
    "def group_action_is_large(g, GO):\n",
    "    return 1\n",
    "\n",
    "def dimension_of_family(g, GO, c):\n",
    "    return 0\n",
    "\n",
    "def max_ramification_order(c):\n",
    "    return 7"
   ]
  },
  {
   "cell_type": "code",
   "execution_count": 24,
   "id": "773a9e9d",
   "metadata": {},
   "outputs": [
    {
     "name": "stdout",
     "output_type": "stream",
     "text": [
      "[3, 168, 1, 3, 21, 1, 2, 1, 7, 0]\n",
      "[7, 504, 1, 3, 63, 1, 2, 1, 7, 0]\n",
      "[14, 1092, 1, 2, 91, 1, 2, 1, 7, 0]\n",
      "[118, 9828, 1, 2, 351, 1, 2, 1, 7, 0]\n",
      "[146, 12180, 1, 2, 435, 1, 2, 1, 7, 0]\n",
      "[411, 34440, 1, 3, 861, 1, 2, 1, 7, 0]\n",
      "[474, 39732, 1, 2, 903, 1, 2, 1, 7, 0]\n",
      "[2091, 175560, 1, 3, 1463, 1, 2, 1, 7, 0]\n",
      "[2131, 178920, 1, 3, 2485, 1, 2, 1, 7, 0]\n",
      "[3404, 285852, 1, 2, 3403, 1, 2, 1, 7, 0]\n",
      "[5433, 456288, 1, 5, 4753, 1, 2, 1, 7, 0]\n",
      "[7201, 604800, 1, 7, 2835, 2, 2, 1, 7, 0]\n",
      "[8589, 721392, 1, 4, 6441, 1, 2, 1, 7, 0]\n",
      "[11626, 976500, 1, 2, 7875, 1, 2, 1, 7, 0]\n"
     ]
    }
   ],
   "source": [
    "# https://www.sciencedirect.com/science/article/pii/0021869387901359\n",
    "# Table 1\n",
    "group_list = [PSL(2,7), PSL(2, 8), PSL(2, 13), PSL(2, 27), PSL(2, 29),\n",
    "             PSL(2, 41), PSL(2, 43), groups.permutation.Janko(1),\n",
    "             PSL(2, 71), PSL(2, 83), PSL(2, 97), \n",
    "             groups.permutation.Janko(2), PSL(2, 113), PSL(2, 125)]\n",
    "\n",
    "for G in group_list:\n",
    "    GO = G.order()\n",
    "    c = (2, 3, 7)\n",
    "\n",
    "    g = starting_genus(GO, c)\n",
    "\n",
    "    group_level_data = [GO, group_action_is_large(g, GO), power_two_dividing(GO), \n",
    "                        number_involutions(G), number_involutions_upto_conjugacy(G)]\n",
    "\n",
    "    signature_level_data = [number_odds_in_sig(c), number_evens_in_sig(c),\n",
    "                            max_ramification_order(c), dimension_of_family(g, GO, c)]\n",
    "\n",
    "    data = [g] + group_level_data + signature_level_data\n",
    "\n",
    "    print(data)"
   ]
  }
 ],
 "metadata": {
  "kernelspec": {
   "display_name": "SageMath 9.7.rc0",
   "language": "sage",
   "name": "sagemath"
  },
  "language_info": {
   "codemirror_mode": {
    "name": "ipython",
    "version": 3
   },
   "file_extension": ".py",
   "mimetype": "text/x-python",
   "name": "python",
   "nbconvert_exporter": "python",
   "pygments_lexer": "ipython3",
   "version": "3.10.5"
  }
 },
 "nbformat": 4,
 "nbformat_minor": 5
}
