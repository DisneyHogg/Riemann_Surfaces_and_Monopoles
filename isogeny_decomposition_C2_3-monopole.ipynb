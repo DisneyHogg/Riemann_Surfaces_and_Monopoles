{
 "cells": [
  {
   "cell_type": "code",
   "execution_count": 1,
   "id": "3effdf3a",
   "metadata": {},
   "outputs": [
    {
     "name": "stdout",
     "output_type": "stream",
     "text": [
      "[4, 0, 1, 3]\n"
     ]
    }
   ],
   "source": [
    "# initialise the curve\n",
    "R.<z,x> = QQ[]\n",
    "f = z^3 + z*(1*x^4 + 2*x^2 + 3) + (4*x^6 + 5*x^4 + 6*x^2 + 7)\n",
    "S = Curve(f).riemann_surface()\n",
    "\n",
    "# find the endomorphism basis (uses LLL)\n",
    "E = S.endomorphism_basis()\n",
    "\n",
    "# use groebner bases to find all idempotents in the QQ-algebra\n",
    "P = PolynomialRing(QQ, len(E), names='a')\n",
    "M = sum(a*m for a,m in zip(P.gens(),E))\n",
    "idempotent_combinations = [tuple(v[a] for a in P.gens()) for v in P.ideal((M^2-M).list()).variety()]\n",
    "idempotents = [sum(a*m for a,m in zip(v,E)) for v in idempotent_combinations]\n",
    "symmetric_idempotents = [e for e in idempotents if S.rosati_involution(e)==e]\n",
    "\n",
    "# Check the dimension of the subvariety corresponding to the idempotents symmetric under the rosati involution\n",
    "# this is Birkenhake & Lange, Theorem 5.3.2\n",
    "print([e.kernel().dimension()/2 for e in symmetric_idempotents])"
   ]
  }
 ],
 "metadata": {
  "kernelspec": {
   "display_name": "SageMath 9.7.rc0",
   "language": "sage",
   "name": "sagemath"
  },
  "language_info": {
   "codemirror_mode": {
    "name": "ipython",
    "version": 3
   },
   "file_extension": ".py",
   "mimetype": "text/x-python",
   "name": "python",
   "nbconvert_exporter": "python",
   "pygments_lexer": "ipython3",
   "version": "3.10.5"
  }
 },
 "nbformat": 4,
 "nbformat_minor": 5
}
